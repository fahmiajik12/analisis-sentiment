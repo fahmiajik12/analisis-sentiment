import json
import pandas as pd
import re
import matplotlib.pyplot as plt
import seaborn as sns
from transformers import pipeline, AutoTokenizer, AutoModelForSequenceClassification
import torch

# Load file JSON
with open("dataset_tiktok-comments-scraper_2025-05-09_01-15-36-897.json", encoding="utf-8") as f:
    data = json.load(f)

df = pd.json_normalize(data)

# Bersihkan komentar
def clean_text(text):
    text = text.lower()
    text = re.sub(r"http\S+|@\w+|#[\w\d]+", "", text)  # Hapus URL, mention, hashtag
    text = re.sub(r"[^\w\s]", "", text)               # Hapus tanda baca
    text = re.sub(r"\d+", "", text)                   # Hapus angka
    return text.strip()

df['clean_text'] = df['text'].astype(str).apply(clean_text)

# Load model sentimen Indonesia
model_id = "Aardiiiiy/indobertweet-base-Indonesian-sentiment-analysis"
tokenizer = AutoTokenizer.from_pretrained(model_id)
model = AutoModelForSequenceClassification.from_pretrained(model_id)

sentiment_pipeline = pipeline("sentiment-analysis", model=model, tokenizer=tokenizer)

# Prediksi sentimen per komentar
def predict_sentiment(text):
    result = sentiment_pipeline(text[:512])[0]  # Batasi max token BERT
    return pd.Series([result['label'], result['score']])

df[['sentiment_label', 'sentiment_score']] = df['clean_text'].apply(predict_sentiment)

# Tampilkan hasil
print(df[['text', 'clean_text', 'sentiment_label', 'sentiment_score']].head(10))

# Visualisasi distribusi
plt.figure(figsize=(7,4))
sns.countplot(data=df, x='sentiment_label', palette='Set2')
plt.title("Distribusi Sentimen Komentar TikTok")
plt.xlabel("Sentimen")
plt.ylabel("Jumlah Komentar")
plt.show()


from wordcloud import WordCloud

for label in ['Positive', 'Neutral', 'Negative']:
    text = ' '.join(df[df['sentiment_label'] == label]['clean_text'])
    wc = WordCloud(width=800, height=400, background_color='white').generate(text)
    plt.figure(figsize=(10, 4))
    plt.imshow(wc, interpolation='bilinear')
    plt.axis('off')
    plt.title(f"WordCloud Sentimen: {label}")
    plt.show()


print("\nKomentar sangat positif:")
print(df[df['sentiment_score'] > 0.99][['text', 'sentiment_label', 'sentiment_score']].head())

print("\nKomentar sangat negatif:")
print(df[df['sentiment_score'] < 0.1][['text', 'sentiment_label', 'sentiment_score']].head())



